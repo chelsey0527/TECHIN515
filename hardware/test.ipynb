{
 "cells": [
  {
   "cell_type": "code",
   "execution_count": 26,
   "metadata": {},
   "outputs": [],
   "source": [
    "import os\n",
    "import psycopg2\n",
    "from dotenv import load_dotenv, find_dotenv\n",
    "from datetime import datetime\n",
    "\n",
    "# Load environment variables from .env file\n",
    "load_dotenv(find_dotenv())\n",
    "\n",
    "# Database connection information\n",
    "dbname = os.getenv(\"DATABASE\")\n",
    "user = \"chelsey\"\n",
    "password = os.getenv(\"PASSWORD\")\n",
    "host = os.getenv(\"HOST\")\n",
    "port = os.getenv(\"PORT\")\n",
    "\n",
    "def connect_to_database():\n",
    "    return psycopg2.connect(dbname=dbname, user=user, password=password, host=host, port=port)\n",
    "\n",
    "def fetch_daily_intake_schedule():\n",
    "    conn = None\n",
    "    try:\n",
    "        conn = connect_to_database()\n",
    "        cursor = conn.cursor()\n",
    "\n",
    "        date = str(datetime.now().date())\n",
    "        query = 'SELECT \"pillcaseId\", \"intakeTime\", \"isIntaked\", \"updatedAt\", \"userId\", \"scheduleTime\", \"scheduleDate\", \"status\" FROM \"IntakeLog\" WHERE \"scheduleDate\" = %s'\n",
    "        cursor.execute(query, (date,))\n",
    "        \n",
    "        columns = [desc[0] for desc in cursor.description]\n",
    "        rows = cursor.fetchall()\n",
    "        schedule = [dict(zip(columns, row)) for row in rows]\n",
    "\n",
    "        return schedule\n",
    "\n",
    "    except (Exception, psycopg2.Error) as error:\n",
    "        print(\"Error fetching daily intake schedule:\", error)\n",
    "    finally:\n",
    "        if conn:\n",
    "            cursor.close()\n",
    "            conn.close()\n",
    "\n",
    "def remind_to_take_pills(schedule):\n",
    "    for entry in schedule:\n",
    "        pillcase_id = entry['pillcaseId']\n",
    "        schedule_time = entry['scheduleTime']\n",
    "        print(schedule_time)\n",
    "        pill_info = get_pillcase_info(pillcase_id)\n",
    "        if pill_info and str(datetime.now().time().strftime('%H:%M')) in schedule_time:\n",
    "            pill_name, doses, case_no = pill_info\n",
    "            reminder_message = f\"Take {doses} dose(s) of {pill_name} from pillbox {case_no}\"\n",
    "            print(reminder_message)\n",
    "            play_audio_reminder(\"Time to take your medicines!\")\n",
    "\n",
    "def get_pillcase_info(pillcase_id):\n",
    "    conn = None\n",
    "    try:\n",
    "        conn = connect_to_database()\n",
    "        cursor = conn.cursor()\n",
    "\n",
    "        query = 'SELECT \"pillName\", \"doses\", \"caseNo\" FROM \"Pillcase\" WHERE id = %s'\n",
    "        cursor.execute(query, (pillcase_id,))\n",
    "        pill_info = cursor.fetchone()\n",
    "\n",
    "        return pill_info\n",
    "\n",
    "    except (Exception, psycopg2.Error) as error:\n",
    "        print(\"Error fetching pillcase info:\", error)\n",
    "    finally:\n",
    "        if conn:\n",
    "            cursor.close()\n",
    "            conn.close()\n",
    "\n",
    "def play_audio_reminder(message):\n",
    "    # Implement audio reminder functionality\n",
    "    pass\n",
    "\n",
    "def update_intake_log(pillcase_id, intake_time):\n",
    "    conn = None\n",
    "    try:\n",
    "        conn = connect_to_database()\n",
    "        cursor = conn.cursor()\n",
    "\n",
    "        query = 'UPDATE \"IntakeLog\" SET intakeTime = %s, isIntaked = True, status = %s WHERE pillcaseId = %s AND scheduleTime = %s'\n",
    "        cursor.execute(query, (intake_time, pillcase_id, intake_time))\n",
    "\n",
    "        conn.commit()\n",
    "\n",
    "    except (Exception, psycopg2.Error) as error:\n",
    "        print(\"Error updating intake log:\", error)\n",
    "        if conn:\n",
    "            conn.rollback()\n",
    "    finally:\n",
    "        if conn:\n",
    "            cursor.close()\n",
    "            conn.close()"
   ]
  },
  {
   "cell_type": "code",
   "execution_count": 29,
   "metadata": {},
   "outputs": [
    {
     "name": "stdout",
     "output_type": "stream",
     "text": [
      "[{'pillcaseId': 'c3f5793d-acd1-4050-904f-c81d018f3d4a', 'intakeTime': None, 'isIntaked': False, 'updatedAt': datetime.datetime(2024, 5, 16, 18, 45, 5, 293000), 'userId': 'ee430f72-7def-434c-ade8-c464c04655b7', 'scheduleTime': \"'06:00:00'\", 'scheduleDate': '2024-05-16', 'status': 'Missed'}, {'pillcaseId': 'd489f787-f797-484b-bd21-74ff14736208', 'intakeTime': None, 'isIntaked': False, 'updatedAt': datetime.datetime(2024, 5, 16, 18, 45, 5, 293000), 'userId': 'ee430f72-7def-434c-ade8-c464c04655b7', 'scheduleTime': \"'6:00:00'\", 'scheduleDate': '2024-05-16', 'status': 'Missed'}, {'pillcaseId': '40db4058-1a13-44b4-bbf2-a3621deba1c5', 'intakeTime': None, 'isIntaked': False, 'updatedAt': datetime.datetime(2024, 5, 16, 18, 45, 5, 293000), 'userId': 'ee430f72-7def-434c-ade8-c464c04655b7', 'scheduleTime': \"'06:00:00'\", 'scheduleDate': '2024-05-16', 'status': 'Missed'}, {'pillcaseId': '03f13cbb-2489-4c25-9e9a-7c140a3a9d3e', 'intakeTime': None, 'isIntaked': False, 'updatedAt': datetime.datetime(2024, 5, 16, 18, 45, 5, 293000), 'userId': 'ee430f72-7def-434c-ade8-c464c04655b7', 'scheduleTime': \"'06:00:00'\", 'scheduleDate': '2024-05-16', 'status': 'Missed'}, {'pillcaseId': '03f13cbb-2489-4c25-9e9a-7c140a3a9d3e', 'intakeTime': None, 'isIntaked': False, 'updatedAt': datetime.datetime(2024, 5, 16, 19, 8, 16, 412000), 'userId': 'ee430f72-7def-434c-ade8-c464c04655b7', 'scheduleTime': \"'12:00:00'\", 'scheduleDate': '2024-05-16', 'status': 'Missed'}, {'pillcaseId': 'c3f5793d-acd1-4050-904f-c81d018f3d4a', 'intakeTime': None, 'isIntaked': False, 'updatedAt': datetime.datetime(2024, 5, 16, 19, 8, 16, 412000), 'userId': 'ee430f72-7def-434c-ade8-c464c04655b7', 'scheduleTime': \"'12:00:00'\", 'scheduleDate': '2024-05-16', 'status': 'Missed'}, {'pillcaseId': '40db4058-1a13-44b4-bbf2-a3621deba1c5', 'intakeTime': None, 'isIntaked': False, 'updatedAt': datetime.datetime(2024, 5, 16, 19, 8, 16, 412000), 'userId': 'ee430f72-7def-434c-ade8-c464c04655b7', 'scheduleTime': \"'12:00:00'\", 'scheduleDate': '2024-05-16', 'status': 'Missed'}, {'pillcaseId': '03f13cbb-2489-4c25-9e9a-7c140a3a9d3e', 'intakeTime': None, 'isIntaked': False, 'updatedAt': datetime.datetime(2024, 5, 16, 18, 45, 0, 494000), 'userId': 'ee430f72-7def-434c-ade8-c464c04655b7', 'scheduleTime': \"'18:00:00'\", 'scheduleDate': '2024-05-16', 'status': 'Pending'}, {'pillcaseId': 'c3f5793d-acd1-4050-904f-c81d018f3d4a', 'intakeTime': None, 'isIntaked': False, 'updatedAt': datetime.datetime(2024, 5, 16, 18, 45, 0, 494000), 'userId': 'ee430f72-7def-434c-ade8-c464c04655b7', 'scheduleTime': \"'18:00:00'\", 'scheduleDate': '2024-05-16', 'status': 'Pending'}, {'pillcaseId': '40db4058-1a13-44b4-bbf2-a3621deba1c5', 'intakeTime': None, 'isIntaked': False, 'updatedAt': datetime.datetime(2024, 5, 16, 18, 45, 0, 494000), 'userId': 'ee430f72-7def-434c-ade8-c464c04655b7', 'scheduleTime': \"'18:00:00'\", 'scheduleDate': '2024-05-16', 'status': 'Pending'}]\n"
     ]
    }
   ],
   "source": [
    "schedule = fetch_daily_intake_schedule()\n",
    "print(schedule)"
   ]
  },
  {
   "cell_type": "code",
   "execution_count": 27,
   "metadata": {},
   "outputs": [
    {
     "name": "stdout",
     "output_type": "stream",
     "text": [
      "'18:00:00'\n"
     ]
    }
   ],
   "source": [
    "remind_to_take_pills(schedule)"
   ]
  }
 ],
 "metadata": {
  "kernelspec": {
   "display_name": "Python 3",
   "language": "python",
   "name": "python3"
  },
  "language_info": {
   "codemirror_mode": {
    "name": "ipython",
    "version": 3
   },
   "file_extension": ".py",
   "mimetype": "text/x-python",
   "name": "python",
   "nbconvert_exporter": "python",
   "pygments_lexer": "ipython3",
   "version": "3.11.0"
  }
 },
 "nbformat": 4,
 "nbformat_minor": 2
}
